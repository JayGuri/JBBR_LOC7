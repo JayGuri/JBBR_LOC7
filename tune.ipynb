{
 "cells": [
  {
   "cell_type": "code",
   "execution_count": null,
   "metadata": {},
   "outputs": [],
   "source": [
    "from paddleocr import PaddleOCR, draw_ocr\n",
    "from matplotlib import pyplot as plt\n",
    "import cv2\n",
    "import os\n",
    "import ollama\n",
    "import json"
   ]
  },
  {
   "cell_type": "code",
   "execution_count": null,
   "metadata": {
    "collapsed": true
   },
   "outputs": [
    {
     "name": "stdout",
     "output_type": "stream",
     "text": [
      "[2025/02/08 18:17:00] ppocr DEBUG: Namespace(help='==SUPPRESS==', use_gpu=False, use_xpu=False, use_npu=False, use_mlu=False, ir_optim=True, use_tensorrt=False, min_subgraph_size=15, precision='fp32', gpu_mem=500, gpu_id=0, image_dir=None, page_num=0, det_algorithm='DB', det_model_dir='C:\\\\Users\\\\Akshat/.paddleocr/whl\\\\det\\\\en\\\\en_PP-OCRv3_det_infer', det_limit_side_len=960, det_limit_type='max', det_box_type='quad', det_db_thresh=0.3, det_db_box_thresh=0.6, det_db_unclip_ratio=1.5, max_batch_size=10, use_dilation=False, det_db_score_mode='fast', det_east_score_thresh=0.8, det_east_cover_thresh=0.1, det_east_nms_thresh=0.2, det_sast_score_thresh=0.5, det_sast_nms_thresh=0.2, det_pse_thresh=0, det_pse_box_thresh=0.85, det_pse_min_area=16, det_pse_scale=1, scales=[8, 16, 32], alpha=1.0, beta=1.0, fourier_degree=5, rec_algorithm='SVTR_LCNet', rec_model_dir='C:\\\\Users\\\\Akshat/.paddleocr/whl\\\\rec\\\\en\\\\en_PP-OCRv4_rec_infer', rec_image_inverse=True, rec_image_shape='3, 48, 320', rec_batch_num=6, max_text_length=25, rec_char_dict_path='C:\\\\Users\\\\Akshat\\\\AppData\\\\Roaming\\\\Python\\\\Python312\\\\site-packages\\\\paddleocr\\\\ppocr\\\\utils\\\\en_dict.txt', use_space_char=True, vis_font_path='./doc/fonts/simfang.ttf', drop_score=0.5, e2e_algorithm='PGNet', e2e_model_dir=None, e2e_limit_side_len=768, e2e_limit_type='max', e2e_pgnet_score_thresh=0.5, e2e_char_dict_path='./ppocr/utils/ic15_dict.txt', e2e_pgnet_valid_set='totaltext', e2e_pgnet_mode='fast', use_angle_cls=False, cls_model_dir='C:\\\\Users\\\\Akshat/.paddleocr/whl\\\\cls\\\\ch_ppocr_mobile_v2.0_cls_infer', cls_image_shape='3, 48, 192', label_list=['0', '180'], cls_batch_num=6, cls_thresh=0.9, enable_mkldnn=False, cpu_threads=10, use_pdserving=False, warmup=False, sr_model_dir=None, sr_image_shape='3, 32, 128', sr_batch_num=1, draw_img_save_dir='./inference_results', save_crop_res=False, crop_res_save_dir='./output', use_mp=False, total_process_num=1, process_id=0, benchmark=False, save_log_path='./log_output/', show_log=True, use_onnx=False, return_word_box=False, output='./output', table_max_len=488, table_algorithm='TableAttn', table_model_dir=None, merge_no_span_structure=True, table_char_dict_path=None, formula_algorithm='LaTeXOCR', formula_model_dir=None, formula_char_dict_path=None, formula_batch_num=1, layout_model_dir=None, layout_dict_path=None, layout_score_threshold=0.5, layout_nms_threshold=0.5, kie_algorithm='LayoutXLM', ser_model_dir=None, re_model_dir=None, use_visual_backbone=True, ser_dict_path='../train_data/XFUND/class_list_xfun.txt', ocr_order_method=None, mode='structure', image_orientation=False, layout=True, table=True, formula=False, ocr=True, recovery=False, recovery_to_markdown=False, use_pdf2docx_api=False, invert=False, binarize=False, alphacolor=(255, 255, 255), lang='en', det=True, rec=True, type='ocr', savefile=False, ocr_version='PP-OCRv4', structure_version='PP-StructureV2')\n"
     ]
    }
   ],
   "source": [
    "# Setup model\n",
    "ocr_model = PaddleOCR(lang='en', use_gpu=False)\n"
   ]
  },
  {
   "cell_type": "code",
   "execution_count": null,
   "metadata": {},
   "outputs": [
    {
     "name": "stdout",
     "output_type": "stream",
     "text": [
      "[2025/02/08 18:17:01] ppocr WARNING: Since the angle classifier is not initialized, it will not be used during the forward process\n",
      "[2025/02/08 18:17:02] ppocr DEBUG: dt_boxes num : 36, elapsed : 0.13854718208312988\n",
      "[2025/02/08 18:17:04] ppocr DEBUG: rec_res num  : 36, elapsed : 2.2875618934631348\n"
     ]
    }
   ],
   "source": [
    "def get_strings_simple(data):\n",
    "    \"\"\"Extract strings using simple list comprehension\"\"\"\n",
    "    return [item[1] for item in data[0]]"
   ]
  },
  {
   "cell_type": "code",
   "execution_count": null,
   "id": "08f2e598",
   "metadata": {},
   "outputs": [],
   "source": [
    "def query_qwen2(text):\n",
    "    \"\"\"Sends text to the locally running Qwen2.5-3B model and forces valid JSON output.\"\"\"\n",
    "    prompt = f\"\"\"\n",
    "    Extract structured details from the following receipt text. Respond only in JSON format without any extra text.\n",
    "    **Input Receipt Text:**\n",
    "    \\\"\\\"\\\"{text}\\\"\\\"\\\"\n",
    "    **JSON Format (Example Output):**\n",
    "    {{\n",
    "        \"vendor\": \"Walmart\",\n",
    "        \"amount\": \"45.67\",\n",
    "        \"date\": \"2024-02-08\",\n",
    "        \"category\": \"Grocery\"\n",
    "    }}\n",
    "    Now, extract details from the given receipt and return only JSON:\n",
    "    \"\"\"\n",
    "    response = ollama.chat(model='qwen2.5:3b', messages=[{\"role\": \"user\", \"content\": prompt}])\n",
    "    json_text = response['message']['content'].strip()\n",
    "    # Ensure only valid JSON is returned\n",
    "    try:\n",
    "        structured_data = json.loads(json_text)  # Parse JSON response\n",
    "        return structured_data\n",
    "    except json.JSONDecodeError:\n",
    "        print(\"Error: Model response is not valid JSON.\\nResponse:\\n\", json_text)\n",
    "        return None"
   ]
  },
  {
   "cell_type": "code",
   "execution_count": null,
   "id": "d6b03b78",
   "metadata": {},
   "outputs": [],
   "source": [
    "def process_receipt(ocr_text_list):\n",
    "    \"\"\"Takes OCR-extracted text and processes it using Qwen2.5-3B to extract structured receipt details.\"\"\"\n",
    "    combined_text = \" \".join([text[0] for text in ocr_text_list])  # Combine OCR-extracted text\n",
    "    structured_data = query_qwen2(combined_text)  # Send to Qwen model\n",
    "    return structured_data"
   ]
  },
  {
   "cell_type": "code",
   "execution_count": null,
   "id": "1f8db8be",
   "metadata": {},
   "outputs": [],
   "source": [
    "# Read and process image\n",
    "result = ocr_model.ocr('images/0.jpg')"
   ]
  },
  {
   "cell_type": "code",
   "execution_count": null,
   "id": "399a7e98",
   "metadata": {},
   "outputs": [],
   "source": [
    "# Extract strings\n",
    "strings = get_strings_simple(result)"
   ]
  },
  {
   "cell_type": "code",
   "execution_count": null,
   "id": "1bce2289",
   "metadata": {},
   "outputs": [],
   "source": [
    "# Process receipt\n",
    "receipt_details = process_receipt(strings)\n",
    "print(\"Extracted Receipt Details:\", receipt_details)"
   ]
  }
 ],
 "metadata": {
  "kernelspec": {
   "display_name": "Python 3",
   "language": "python",
   "name": "python3"
  },
  "language_info": {
   "codemirror_mode": {
    "name": "ipython",
    "version": 3
   },
   "file_extension": ".py",
   "mimetype": "text/x-python",
   "name": "python",
   "nbconvert_exporter": "python",
   "pygments_lexer": "ipython3",
   "version": "3.12.6"
  }
 },
 "nbformat": 4,
 "nbformat_minor": 5
}
