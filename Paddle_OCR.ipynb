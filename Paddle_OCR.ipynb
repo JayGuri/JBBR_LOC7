{
 "cells": [
  {
   "cell_type": "code",
   "execution_count": 30,
   "metadata": {},
   "outputs": [],
   "source": [
    "from paddleocr import PaddleOCR, draw_ocr # main OCR dependencies\n",
    "from matplotlib import pyplot as plt # plot images\n",
    "import cv2 #opencv\n",
    "import os # folder directory navigation\n",
    "import ollama"
   ]
  },
  {
   "cell_type": "code",
   "execution_count": 31,
   "metadata": {
    "collapsed": true
   },
   "outputs": [
    {
     "name": "stdout",
     "output_type": "stream",
     "text": [
      "[2025/02/08 21:28:23] ppocr DEBUG: Namespace(help='==SUPPRESS==', use_gpu=False, use_xpu=False, use_npu=False, use_mlu=False, ir_optim=True, use_tensorrt=False, min_subgraph_size=15, precision='fp32', gpu_mem=500, gpu_id=0, image_dir=None, page_num=0, det_algorithm='DB', det_model_dir='C:\\\\Users\\\\harsh/.paddleocr/whl\\\\det\\\\en\\\\en_PP-OCRv3_det_infer', det_limit_side_len=960, det_limit_type='max', det_box_type='quad', det_db_thresh=0.3, det_db_box_thresh=0.6, det_db_unclip_ratio=1.5, max_batch_size=10, use_dilation=False, det_db_score_mode='fast', det_east_score_thresh=0.8, det_east_cover_thresh=0.1, det_east_nms_thresh=0.2, det_sast_score_thresh=0.5, det_sast_nms_thresh=0.2, det_pse_thresh=0, det_pse_box_thresh=0.85, det_pse_min_area=16, det_pse_scale=1, scales=[8, 16, 32], alpha=1.0, beta=1.0, fourier_degree=5, rec_algorithm='SVTR_LCNet', rec_model_dir='C:\\\\Users\\\\harsh/.paddleocr/whl\\\\rec\\\\en\\\\en_PP-OCRv4_rec_infer', rec_image_inverse=True, rec_image_shape='3, 48, 320', rec_batch_num=6, max_text_length=25, rec_char_dict_path='c:\\\\PF\\\\Projects\\\\.venv\\\\Lib\\\\site-packages\\\\paddleocr\\\\ppocr\\\\utils\\\\en_dict.txt', use_space_char=True, vis_font_path='./doc/fonts/simfang.ttf', drop_score=0.5, e2e_algorithm='PGNet', e2e_model_dir=None, e2e_limit_side_len=768, e2e_limit_type='max', e2e_pgnet_score_thresh=0.5, e2e_char_dict_path='./ppocr/utils/ic15_dict.txt', e2e_pgnet_valid_set='totaltext', e2e_pgnet_mode='fast', use_angle_cls=False, cls_model_dir='C:\\\\Users\\\\harsh/.paddleocr/whl\\\\cls\\\\ch_ppocr_mobile_v2.0_cls_infer', cls_image_shape='3, 48, 192', label_list=['0', '180'], cls_batch_num=6, cls_thresh=0.9, enable_mkldnn=False, cpu_threads=10, use_pdserving=False, warmup=False, sr_model_dir=None, sr_image_shape='3, 32, 128', sr_batch_num=1, draw_img_save_dir='./inference_results', save_crop_res=False, crop_res_save_dir='./output', use_mp=False, total_process_num=1, process_id=0, benchmark=False, save_log_path='./log_output/', show_log=True, use_onnx=False, return_word_box=False, output='./output', table_max_len=488, table_algorithm='TableAttn', table_model_dir=None, merge_no_span_structure=True, table_char_dict_path=None, formula_algorithm='LaTeXOCR', formula_model_dir=None, formula_char_dict_path=None, formula_batch_num=1, layout_model_dir=None, layout_dict_path=None, layout_score_threshold=0.5, layout_nms_threshold=0.5, kie_algorithm='LayoutXLM', ser_model_dir=None, re_model_dir=None, use_visual_backbone=True, ser_dict_path='../train_data/XFUND/class_list_xfun.txt', ocr_order_method=None, mode='structure', image_orientation=False, layout=True, table=True, formula=False, ocr=True, recovery=False, recovery_to_markdown=False, use_pdf2docx_api=False, invert=False, binarize=False, alphacolor=(255, 255, 255), lang='en', det=True, rec=True, type='ocr', savefile=False, ocr_version='PP-OCRv4', structure_version='PP-StructureV2')\n"
     ]
    }
   ],
   "source": [
    "# Setup model\n",
    "ocr_model = PaddleOCR(lang='en', use_gpu=False)\n"
   ]
  },
  {
   "cell_type": "code",
   "execution_count": 44,
   "metadata": {},
   "outputs": [],
   "source": [
    "img_path = os.path.join('.', 'C:\\PF\\Projects\\LOC_7.0\\images\\Pine_bill.jpeg')"
   ]
  },
  {
   "cell_type": "code",
   "execution_count": 45,
   "metadata": {},
   "outputs": [
    {
     "name": "stdout",
     "output_type": "stream",
     "text": [
      "[2025/02/08 21:35:01] ppocr WARNING: Since the angle classifier is not initialized, it will not be used during the forward process\n",
      "[2025/02/08 21:35:01] ppocr DEBUG: dt_boxes num : 36, elapsed : 0.3659780025482178\n",
      "[2025/02/08 21:35:03] ppocr DEBUG: rec_res num  : 36, elapsed : 1.4262208938598633\n"
     ]
    }
   ],
   "source": [
    "# Run the ocr method on the ocr model\n",
    "result = ocr_model.ocr(img_path)"
   ]
  },
  {
   "cell_type": "code",
   "execution_count": 46,
   "metadata": {},
   "outputs": [
    {
     "data": {
      "text/plain": [
       "[[[[[436.0, 14.0], [681.0, 8.0], [682.0, 54.0], [437.0, 60.0]],\n",
       "   ('.ients', 0.7985985279083252)],\n",
       "  [[[208.0, 164.0], [637.0, 179.0], [636.0, 211.0], [207.0, 196.0]],\n",
       "   ('UPPER CRUST FOUDS UPPER CRUST FOUDS', 0.9368654489517212)],\n",
       "  [[[379.0, 207.0], [459.0, 213.0], [456.0, 247.0], [377.0, 242.0]],\n",
       "   ('MUMBAI', 0.9667284488677979)],\n",
       "  [[[121.0, 238.0], [325.0, 244.0], [324.0, 276.0], [120.0, 270.0]],\n",
       "   ('DATE:2025-02-07', 0.9436524510383606)],\n",
       "  [[[536.0, 251.0], [709.0, 248.0], [709.0, 280.0], [536.0, 283.0]],\n",
       "   ('TIME 16:41:49', 0.9174444675445557)],\n",
       "  [[[122.0, 278.0], [370.0, 284.0], [369.0, 312.0], [121.0, 306.0]],\n",
       "   ('MID 02PL00000512911', 0.9574407339096069)],\n",
       "  [[[545.0, 287.0], [706.0, 287.0], [706.0, 315.0], [545.0, 315.0]],\n",
       "   ('TID 20168971', 0.9576871991157532)],\n",
       "  [[[125.0, 316.0], [334.0, 320.0], [334.0, 348.0], [124.0, 344.0]],\n",
       "   ('BATCH NUM000055', 0.8671987056732178)],\n",
       "  [[[511.0, 323.0], [704.0, 323.0], [704.0, 349.0], [511.0, 349.0]],\n",
       "   ('INV.NUM047631', 0.9153614044189453)],\n",
       "  [[[375.0, 353.0], [454.0, 353.0], [454.0, 399.0], [375.0, 399.0]],\n",
       "   ('Sale', 0.9975618720054626)],\n",
       "  [[[120.0, 372.0], [149.0, 372.0], [149.0, 409.0], [120.0, 409.0]],\n",
       "   ('2', 0.541294515132904)],\n",
       "  [[[120.0, 406.0], [325.0, 398.0], [326.0, 432.0], [121.0, 439.0]],\n",
       "   ('***********6969', 0.9812787771224976)],\n",
       "  [[[651.0, 405.0], [703.0, 409.0], [700.0, 441.0], [648.0, 437.0]],\n",
       "   ('Chip', 0.9989089369773865)],\n",
       "  [[[121.0, 440.0], [322.0, 433.0], [324.0, 466.0], [122.0, 474.0]],\n",
       "   ('FXP DATE XX/XX', 0.8773998022079468)],\n",
       "  [[[449.0, 440.0], [698.0, 441.0], [698.0, 469.0], [449.0, 468.0]],\n",
       "   ('CARD TYPEMASTERCARD', 0.9653713703155518)],\n",
       "  [[[124.0, 475.0], [215.0, 472.0], [216.0, 500.0], [125.0, 503.0]],\n",
       "   ('TXN ID', 0.870819091796875)],\n",
       "  [[[203.0, 472.0], [379.0, 472.0], [379.0, 499.0], [203.0, 499.0]],\n",
       "   ('6271715955', 0.9737598299980164)],\n",
       "  [[[528.0, 474.0], [697.0, 479.0], [696.0, 507.0], [527.0, 502.0]],\n",
       "   ('APPMastercard', 0.9935408234596252)],\n",
       "  [[[120.0, 507.0], [349.0, 502.0], [349.0, 534.0], [120.0, 539.0]],\n",
       "   ('IDA0000000041010', 0.9672988653182983)],\n",
       "  [[[527.0, 508.0], [697.0, 511.0], [696.0, 539.0], [526.0, 536.0]],\n",
       "   ('TVR:0000048000', 0.9667589068412781)],\n",
       "  [[[122.0, 542.0], [236.0, 537.0], [238.0, 565.0], [124.0, 570.0]],\n",
       "   ('SIE800', 0.8819334506988525)],\n",
       "  [[[457.0, 541.0], [696.0, 545.0], [695.0, 572.0], [457.0, 568.0]],\n",
       "   ('TC3AEC3FCA7552EEF0', 0.9541875123977661)],\n",
       "  [[[126.0, 574.0], [335.0, 566.0], [336.0, 600.0], [128.0, 607.0]],\n",
       "   ('APPR CODE R02594', 0.9168578386306763)],\n",
       "  [[[491.0, 573.0], [693.0, 578.0], [692.0, 606.0], [491.0, 601.0]],\n",
       "   ('RRN005690228685', 0.9634175896644592)],\n",
       "  [[[211.0, 607.0], [431.0, 607.0], [431.0, 643.0], [211.0, 643.0]],\n",
       "   ('BASE AMT.RS', 0.9287031292915344)],\n",
       "  [[[493.0, 606.0], [615.0, 610.0], [614.0, 647.0], [492.0, 644.0]],\n",
       "   ('1176.00', 0.9971885681152344)],\n",
       "  [[[293.0, 653.0], [544.0, 656.0], [544.0, 689.0], [293.0, 687.0]],\n",
       "   ('PIN VERIFIED OK', 0.9438212513923645)],\n",
       "  [[[229.0, 700.0], [592.0, 704.0], [592.0, 736.0], [229.0, 732.0]],\n",
       "   ('SIGNATURE NOT REQUIRED', 0.9616565108299255)],\n",
       "  [[[295.0, 748.0], [524.0, 748.0], [524.0, 780.0], [295.0, 780.0]],\n",
       "   ('HIMANSHU VORA/', 0.9685958623886108)],\n",
       "  [[[164.0, 792.0], [653.0, 791.0], [653.0, 817.0], [164.0, 819.0]],\n",
       "   ('I AGREE TO PAY AS PER CARD ISSUER AGREEMENT', 0.9049760699272156)],\n",
       "  [[[286.0, 825.0], [544.0, 825.0], [544.0, 848.0], [286.0, 848.0]],\n",
       "   ('*** CUSTOMER COPY ****', 0.8943309187889099)],\n",
       "  [[[304.0, 856.0], [512.0, 853.0], [513.0, 885.0], [304.0, 888.0]],\n",
       "   ('Plutus v10.1.1 SBI', 0.9417712688446045)],\n",
       "  [[[135.0, 889.0], [680.0, 889.0], [680.0, 921.0], [135.0, 921.0]],\n",
       "   ('PRIVACy POLICy AS ON https://www.pinelabs.con/pr', 0.8569426536560059)],\n",
       "  [[[297.0, 928.0], [523.0, 924.0], [524.0, 960.0], [298.0, 964.0]],\n",
       "   ('ivacy-policy APPLY.', 0.9565714001655579)],\n",
       "  [[[252.0, 979.0], [594.0, 970.0], [597.0, 1059.0], [254.0, 1069.0]],\n",
       "   ('pine labs', 0.9530575275421143)]]]"
      ]
     },
     "execution_count": 46,
     "metadata": {},
     "output_type": "execute_result"
    }
   ],
   "source": [
    "result"
   ]
  },
  {
   "cell_type": "code",
   "execution_count": 47,
   "metadata": {},
   "outputs": [],
   "source": [
    "def get_strings_simple(data):\n",
    "    \"\"\"Extract strings using simple list comprehension\"\"\"\n",
    "    return [item[1] for item in data[0]]\n"
   ]
  },
  {
   "cell_type": "code",
   "execution_count": 23,
   "metadata": {},
   "outputs": [],
   "source": [
    "def query_qwen2(text):\n",
    "    \"\"\"Sends text to the locally running Qwen2.5-3B model and forces valid JSON output.\"\"\"\n",
    "    prompt = f\"\"\"\n",
    "    Extract structured details from the following receipt text. Respond only in JSON format without any extra text.\n",
    "    **Input Receipt Text:**\n",
    "    \\\"\\\"\\\"{text}\\\"\\\"\\\"\n",
    "    **JSON Format (Example Output):**\n",
    "    {{\n",
    "        \"vendor\": \"Walmart\",\n",
    "        \"amount\": \"45.67\",\n",
    "        \"date\": \"2024-02-08\",\n",
    "        \"category\": \"Grocery\"\n",
    "    }}\n",
    "    Now, extract details from the given receipt and return only JSON:\n",
    "    \"\"\"\n",
    "    response = ollama.chat(model='qwen2.5:3b', messages=[{\"role\": \"user\", \"content\": prompt}])\n",
    "    json_text = response['message']['content'].strip()\n",
    "    # Ensure only valid JSON is returned\n",
    "    try:\n",
    "        structured_data = json.loads(json_text)  # Parse JSON response\n",
    "        return structured_data\n",
    "    except json.JSONDecodeError:\n",
    "        print(\"Error: Model response is not valid JSON.\\nResponse:\\n\", json_text)\n",
    "        return None"
   ]
  },
  {
   "cell_type": "code",
   "execution_count": 24,
   "metadata": {},
   "outputs": [],
   "source": [
    "def process_receipt(ocr_text_list):\n",
    "    \"\"\"Takes OCR-extracted text and processes it using Qwen2.5-3B to extract structured receipt details.\"\"\"\n",
    "    combined_text = \" \".join([text[0] for text in ocr_text_list])  # Combine OCR-extracted text\n",
    "    structured_data = query_qwen2(combined_text)  # Send to Qwen model\n",
    "    return structured_data"
   ]
  },
  {
   "cell_type": "code",
   "execution_count": 26,
   "metadata": {},
   "outputs": [
    {
     "name": "stdout",
     "output_type": "stream",
     "text": [
      "[2025/02/08 18:40:04] ppocr WARNING: Since the angle classifier is not initialized, it will not be used during the forward process\n",
      "[2025/02/08 18:40:05] ppocr DEBUG: dt_boxes num : 53, elapsed : 0.05650210380554199\n",
      "[2025/02/08 18:40:06] ppocr DEBUG: rec_res num  : 53, elapsed : 1.6820707321166992\n"
     ]
    }
   ],
   "source": [
    "# Read and process image\n",
    "result = ocr_model.ocr(img_path)"
   ]
  },
  {
   "cell_type": "code",
   "execution_count": 48,
   "metadata": {},
   "outputs": [
    {
     "name": "stdout",
     "output_type": "stream",
     "text": [
      "[('.ients', 0.7985985279083252), ('UPPER CRUST FOUDS UPPER CRUST FOUDS', 0.9368654489517212), ('MUMBAI', 0.9667284488677979), ('DATE:2025-02-07', 0.9436524510383606), ('TIME 16:41:49', 0.9174444675445557), ('MID 02PL00000512911', 0.9574407339096069), ('TID 20168971', 0.9576871991157532), ('BATCH NUM000055', 0.8671987056732178), ('INV.NUM047631', 0.9153614044189453), ('Sale', 0.9975618720054626), ('2', 0.541294515132904), ('***********6969', 0.9812787771224976), ('Chip', 0.9989089369773865), ('FXP DATE XX/XX', 0.8773998022079468), ('CARD TYPEMASTERCARD', 0.9653713703155518), ('TXN ID', 0.870819091796875), ('6271715955', 0.9737598299980164), ('APPMastercard', 0.9935408234596252), ('IDA0000000041010', 0.9672988653182983), ('TVR:0000048000', 0.9667589068412781), ('SIE800', 0.8819334506988525), ('TC3AEC3FCA7552EEF0', 0.9541875123977661), ('APPR CODE R02594', 0.9168578386306763), ('RRN005690228685', 0.9634175896644592), ('BASE AMT.RS', 0.9287031292915344), ('1176.00', 0.9971885681152344), ('PIN VERIFIED OK', 0.9438212513923645), ('SIGNATURE NOT REQUIRED', 0.9616565108299255), ('HIMANSHU VORA/', 0.9685958623886108), ('I AGREE TO PAY AS PER CARD ISSUER AGREEMENT', 0.9049760699272156), ('*** CUSTOMER COPY ****', 0.8943309187889099), ('Plutus v10.1.1 SBI', 0.9417712688446045), ('PRIVACy POLICy AS ON https://www.pinelabs.con/pr', 0.8569426536560059), ('ivacy-policy APPLY.', 0.9565714001655579), ('pine labs', 0.9530575275421143)]\n"
     ]
    }
   ],
   "source": [
    "# Extract strings\n",
    "strings = get_strings_simple(result)\n",
    "\n",
    "print(strings)"
   ]
  },
  {
   "cell_type": "code",
   "execution_count": 29,
   "metadata": {},
   "outputs": [
    {
     "name": "stdout",
     "output_type": "stream",
     "text": [
      "Extracted Receipt Details: {'vendor': 'Walmart', 'amount': '49.90', 'date': '2024-02-08', 'category': 'Grocery'}\n"
     ]
    }
   ],
   "source": [
    "# Process receipt\n",
    "receipt_details = process_receipt(strings)\n",
    "print(\"Extracted Receipt Details:\", receipt_details)"
   ]
  },
  {
   "cell_type": "code",
   "execution_count": null,
   "metadata": {},
   "outputs": [],
   "source": []
  }
 ],
 "metadata": {
  "kernelspec": {
   "display_name": ".venv",
   "language": "python",
   "name": "python3"
  },
  "language_info": {
   "codemirror_mode": {
    "name": "ipython",
    "version": 3
   },
   "file_extension": ".py",
   "mimetype": "text/x-python",
   "name": "python",
   "nbconvert_exporter": "python",
   "pygments_lexer": "ipython3",
   "version": "3.12.6"
  }
 },
 "nbformat": 4,
 "nbformat_minor": 5
}
