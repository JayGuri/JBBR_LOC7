{
 "cells": [
  {
   "cell_type": "code",
   "execution_count": 17,
   "metadata": {},
   "outputs": [],
   "source": [
    "from paddleocr import PaddleOCR, draw_ocr # main OCR dependencies\n",
    "from matplotlib import pyplot as plt # plot images\n",
    "import cv2 #opencv\n",
    "import os # folder directory navigation\n",
    "import ollama"
   ]
  },
  {
   "cell_type": "code",
   "execution_count": 18,
   "metadata": {
    "collapsed": true
   },
   "outputs": [
    {
     "name": "stdout",
     "output_type": "stream",
     "text": [
      "[2025/02/08 18:38:59] ppocr DEBUG: Namespace(help='==SUPPRESS==', use_gpu=False, use_xpu=False, use_npu=False, use_mlu=False, ir_optim=True, use_tensorrt=False, min_subgraph_size=15, precision='fp32', gpu_mem=500, gpu_id=0, image_dir=None, page_num=0, det_algorithm='DB', det_model_dir='C:\\\\Users\\\\harsh/.paddleocr/whl\\\\det\\\\en\\\\en_PP-OCRv3_det_infer', det_limit_side_len=960, det_limit_type='max', det_box_type='quad', det_db_thresh=0.3, det_db_box_thresh=0.6, det_db_unclip_ratio=1.5, max_batch_size=10, use_dilation=False, det_db_score_mode='fast', det_east_score_thresh=0.8, det_east_cover_thresh=0.1, det_east_nms_thresh=0.2, det_sast_score_thresh=0.5, det_sast_nms_thresh=0.2, det_pse_thresh=0, det_pse_box_thresh=0.85, det_pse_min_area=16, det_pse_scale=1, scales=[8, 16, 32], alpha=1.0, beta=1.0, fourier_degree=5, rec_algorithm='SVTR_LCNet', rec_model_dir='C:\\\\Users\\\\harsh/.paddleocr/whl\\\\rec\\\\en\\\\en_PP-OCRv4_rec_infer', rec_image_inverse=True, rec_image_shape='3, 48, 320', rec_batch_num=6, max_text_length=25, rec_char_dict_path='c:\\\\PF\\\\Projects\\\\.venv\\\\Lib\\\\site-packages\\\\paddleocr\\\\ppocr\\\\utils\\\\en_dict.txt', use_space_char=True, vis_font_path='./doc/fonts/simfang.ttf', drop_score=0.5, e2e_algorithm='PGNet', e2e_model_dir=None, e2e_limit_side_len=768, e2e_limit_type='max', e2e_pgnet_score_thresh=0.5, e2e_char_dict_path='./ppocr/utils/ic15_dict.txt', e2e_pgnet_valid_set='totaltext', e2e_pgnet_mode='fast', use_angle_cls=False, cls_model_dir='C:\\\\Users\\\\harsh/.paddleocr/whl\\\\cls\\\\ch_ppocr_mobile_v2.0_cls_infer', cls_image_shape='3, 48, 192', label_list=['0', '180'], cls_batch_num=6, cls_thresh=0.9, enable_mkldnn=False, cpu_threads=10, use_pdserving=False, warmup=False, sr_model_dir=None, sr_image_shape='3, 32, 128', sr_batch_num=1, draw_img_save_dir='./inference_results', save_crop_res=False, crop_res_save_dir='./output', use_mp=False, total_process_num=1, process_id=0, benchmark=False, save_log_path='./log_output/', show_log=True, use_onnx=False, return_word_box=False, output='./output', table_max_len=488, table_algorithm='TableAttn', table_model_dir=None, merge_no_span_structure=True, table_char_dict_path=None, formula_algorithm='LaTeXOCR', formula_model_dir=None, formula_char_dict_path=None, formula_batch_num=1, layout_model_dir=None, layout_dict_path=None, layout_score_threshold=0.5, layout_nms_threshold=0.5, kie_algorithm='LayoutXLM', ser_model_dir=None, re_model_dir=None, use_visual_backbone=True, ser_dict_path='../train_data/XFUND/class_list_xfun.txt', ocr_order_method=None, mode='structure', image_orientation=False, layout=True, table=True, formula=False, ocr=True, recovery=False, recovery_to_markdown=False, use_pdf2docx_api=False, invert=False, binarize=False, alphacolor=(255, 255, 255), lang='en', det=True, rec=True, type='ocr', savefile=False, ocr_version='PP-OCRv4', structure_version='PP-StructureV2')\n"
     ]
    }
   ],
   "source": [
    "# Setup model\n",
    "ocr_model = PaddleOCR(lang='en', use_gpu=False)\n"
   ]
  },
  {
   "cell_type": "code",
   "execution_count": 19,
   "metadata": {},
   "outputs": [],
   "source": [
    "img_path = os.path.join('.', 'Walmart.jpeg')"
   ]
  },
  {
   "cell_type": "code",
   "execution_count": 20,
   "metadata": {},
   "outputs": [
    {
     "name": "stdout",
     "output_type": "stream",
     "text": [
      "[2025/02/08 18:39:00] ppocr WARNING: Since the angle classifier is not initialized, it will not be used during the forward process\n",
      "[2025/02/08 18:39:00] ppocr DEBUG: dt_boxes num : 53, elapsed : 0.09740567207336426\n",
      "[2025/02/08 18:39:03] ppocr DEBUG: rec_res num  : 53, elapsed : 2.142279863357544\n"
     ]
    }
   ],
   "source": [
    "# Run the ocr method on the ocr model\n",
    "result = ocr_model.ocr(img_path)"
   ]
  },
  {
   "cell_type": "code",
   "execution_count": 21,
   "metadata": {},
   "outputs": [
    {
     "data": {
      "text/plain": [
       "[[[[[78.0, 39.0], [365.0, 45.0], [364.0, 63.0], [77.0, 56.0]],\n",
       "   ('Give us feedback @ survey.walmart.com', 0.943331241607666)],\n",
       "  [[[77.0, 55.0], [289.0, 58.0], [289.0, 76.0], [77.0, 73.0]],\n",
       "   ('Thank you!ID#:7PB65JWCFZ2', 0.9179755449295044)],\n",
       "  [[[158.0, 75.0], [305.0, 75.0], [305.0, 107.0], [158.0, 107.0]],\n",
       "   ('Walmart', 0.9831969141960144)],\n",
       "  [[[133.0, 107.0], [316.0, 108.0], [316.0, 126.0], [133.0, 125.0]],\n",
       "   ('949-498-6669 Mgr:MICHAEL', 0.9599562287330627)],\n",
       "  [[[164.0, 126.0], [288.0, 126.0], [288.0, 139.0], [164.0, 139.0]],\n",
       "   ('951 AVENIDA PICO', 0.9468727111816406)],\n",
       "  [[[140.0, 139.0], [303.0, 140.0], [303.0, 154.0], [140.0, 153.0]],\n",
       "   ('SAN CLEMENTE CA 92673', 0.9396104216575623)],\n",
       "  [[[77.0, 151.0], [367.0, 153.0], [366.0, 171.0], [77.0, 169.0]],\n",
       "   ('ST#02527OP#009045 TE#45 TR#06193', 0.9391543865203857)],\n",
       "  [[[78.0, 168.0], [180.0, 170.0], [180.0, 184.0], [77.0, 182.0]],\n",
       "   ('GV OATMEAL', 0.9469197988510132)],\n",
       "  [[[177.0, 170.0], [286.0, 170.0], [286.0, 183.0], [177.0, 183.0]],\n",
       "   ('007874243408F', 0.978279173374176)],\n",
       "  [[[322.0, 170.0], [372.0, 168.0], [373.0, 183.0], [323.0, 185.0]],\n",
       "   ('1.760', 0.9943475723266602)],\n",
       "  [[[78.0, 182.0], [180.0, 185.0], [179.0, 201.0], [77.0, 197.0]],\n",
       "   ('OT 200Z TUM', 0.9058380126953125)],\n",
       "  [[[177.0, 184.0], [272.0, 185.0], [272.0, 199.0], [177.0, 198.0]],\n",
       "   ('081236803115', 0.997002124786377)],\n",
       "  [[[322.0, 185.0], [373.0, 185.0], [373.0, 199.0], [322.0, 199.0]],\n",
       "   ('6.74X', 0.9370657205581665)],\n",
       "  [[[78.0, 197.0], [169.0, 200.0], [168.0, 215.0], [77.0, 213.0]],\n",
       "   ('M ATHLETICS', 0.9614916443824768)],\n",
       "  [[[178.0, 199.0], [271.0, 201.0], [271.0, 215.0], [178.0, 214.0]],\n",
       "   ('019104567781', 0.9976446032524109)],\n",
       "  [[[315.0, 198.0], [374.0, 198.0], [374.0, 216.0], [315.0, 216.0]],\n",
       "   ('24.97X', 0.9188626408576965)],\n",
       "  [[[78.0, 213.0], [167.0, 215.0], [166.0, 229.0], [77.0, 227.0]],\n",
       "   ('DEXAS 15X20', 0.9481031894683838)],\n",
       "  [[[179.0, 216.0], [271.0, 216.0], [271.0, 230.0], [179.0, 230.0]],\n",
       "   ('008429710921', 0.9988482594490051)],\n",
       "  [[[316.0, 214.0], [375.0, 214.0], [375.0, 231.0], [316.0, 231.0]],\n",
       "   ('12.97', 0.9962234497070312)],\n",
       "  [[[216.0, 230.0], [277.0, 230.0], [277.0, 244.0], [216.0, 244.0]],\n",
       "   ('SUBTOTAL', 0.9964640140533447)],\n",
       "  [[[316.0, 230.0], [356.0, 230.0], [356.0, 245.0], [316.0, 245.0]],\n",
       "   ('46.44', 0.9972065687179565)],\n",
       "  [[[149.0, 244.0], [191.0, 244.0], [191.0, 260.0], [149.0, 260.0]],\n",
       "   ('TAX1', 0.9896816611289978)],\n",
       "  [[[209.0, 245.0], [266.0, 245.0], [266.0, 260.0], [209.0, 260.0]],\n",
       "   ('7.750%', 0.9917407631874084)],\n",
       "  [[[322.0, 244.0], [356.0, 244.0], [356.0, 260.0], [322.0, 260.0]],\n",
       "   ('3.46', 0.997167706489563)],\n",
       "  [[[240.0, 261.0], [277.0, 261.0], [277.0, 275.0], [240.0, 275.0]],\n",
       "   ('TOTAL', 0.9981451034545898)],\n",
       "  [[[316.0, 260.0], [356.0, 260.0], [356.0, 275.0], [316.0, 275.0]],\n",
       "   ('49.90', 0.9983013272285461)],\n",
       "  [[[194.0, 274.0], [280.0, 274.0], [280.0, 291.0], [194.0, 291.0]],\n",
       "   ('DEBIT TEND', 0.9517566561698914)],\n",
       "  [[[316.0, 275.0], [356.0, 275.0], [356.0, 289.0], [316.0, 289.0]],\n",
       "   ('49.90', 0.9839494824409485)],\n",
       "  [[[202.0, 290.0], [279.0, 290.0], [279.0, 305.0], [202.0, 305.0]],\n",
       "   ('CHANGE DUE', 0.9585790634155273)],\n",
       "  [[[322.0, 290.0], [356.0, 290.0], [356.0, 306.0], [322.0, 306.0]],\n",
       "   ('0.00', 0.9984579086303711)],\n",
       "  [[[77.0, 304.0], [150.0, 304.0], [150.0, 318.0], [77.0, 318.0]],\n",
       "   ('EFT DEBIT', 0.9106967449188232)],\n",
       "  [[[202.0, 306.0], [323.0, 306.0], [323.0, 320.0], [202.0, 320.0]],\n",
       "   ('PAY FROM PRIMARY', 0.9536842107772827)],\n",
       "  [[[101.0, 320.0], [146.0, 320.0], [146.0, 334.0], [101.0, 334.0]],\n",
       "   ('49.90', 0.9966974258422852)],\n",
       "  [[[148.0, 321.0], [264.0, 321.0], [264.0, 334.0], [148.0, 334.0]],\n",
       "   ('TOTAL PURCHASE', 0.9724208116531372)],\n",
       "  [[[78.0, 334.0], [143.0, 334.0], [143.0, 349.0], [78.0, 349.0]],\n",
       "   ('US DEBIT', 0.9378932118415833)],\n",
       "  [[[195.0, 334.0], [372.0, 334.0], [372.0, 348.0], [195.0, 348.0]],\n",
       "   ('***********9689I0', 0.7514821290969849)],\n",
       "  [[[77.0, 350.0], [220.0, 349.0], [220.0, 363.0], [77.0, 364.0]],\n",
       "   ('REF#029200639128', 0.9947282671928406)],\n",
       "  [[[78.0, 365.0], [332.0, 365.0], [332.0, 379.0], [78.0, 379.0]],\n",
       "   ('NETW0RK ID.0056 APPR C0DE 461500', 0.9214140176773071)],\n",
       "  [[[80.0, 381.0], [143.0, 381.0], [143.0, 393.0], [80.0, 393.0]],\n",
       "   ('USDEBIT', 0.9805278182029724)],\n",
       "  [[[79.0, 395.0], [219.0, 394.0], [219.0, 408.0], [79.0, 409.0]],\n",
       "   ('AID A0000000980840', 0.978978157043457)],\n",
       "  [[[79.0, 410.0], [233.0, 409.0], [233.0, 423.0], [79.0, 424.0]],\n",
       "   ('AAC 7756F4EB82B54EED', 0.9619817733764648)],\n",
       "  [[[79.0, 425.0], [228.0, 424.0], [228.0, 439.0], [79.0, 440.0]],\n",
       "   ('TERMINAL #SC011004', 0.9620035886764526)],\n",
       "  [[[150.0, 440.0], [213.0, 440.0], [213.0, 454.0], [150.0, 454.0]],\n",
       "   ('10/18/20', 0.9983494877815247)],\n",
       "  [[[240.0, 441.0], [301.0, 441.0], [301.0, 452.0], [240.0, 452.0]],\n",
       "   ('11:30:42', 0.9511380195617676)],\n",
       "  [[[171.0, 454.0], [280.0, 454.0], [280.0, 468.0], [171.0, 468.0]],\n",
       "   ('#ITEMS SOLD 4', 0.9273154139518738)],\n",
       "  [[[118.0, 469.0], [331.0, 469.0], [331.0, 484.0], [118.0, 484.0]],\n",
       "   ('TC#2400 47764305 8847 1471', 0.9422643184661865)],\n",
       "  [[[214.0, 561.0], [251.0, 561.0], [251.0, 585.0], [214.0, 585.0]],\n",
       "   ('W', 0.8738272786140442)],\n",
       "  [[[117.0, 614.0], [382.0, 614.0], [382.0, 637.0], [117.0, 637.0]],\n",
       "   ('Introducing Walmart+', 0.983139157295227)],\n",
       "  [[[138.0, 645.0], [360.0, 645.0], [360.0, 663.0], [138.0, 663.0]],\n",
       "   ('Join Loday at walmarL.com/plus', 0.9190697073936462)],\n",
       "  [[[81.0, 676.0], [355.0, 672.0], [356.0, 693.0], [82.0, 698.0]],\n",
       "   ('Low Prices You Can Trust. Every Day.', 0.9499051570892334)],\n",
       "  [[[142.0, 692.0], [205.0, 692.0], [205.0, 707.0], [142.0, 707.0]],\n",
       "   ('10/18/20', 0.9985132813453674)],\n",
       "  [[[238.0, 690.0], [301.0, 689.0], [301.0, 705.0], [238.0, 706.0]],\n",
       "   ('11:30:46', 0.9354792833328247)]]]"
      ]
     },
     "execution_count": 21,
     "metadata": {},
     "output_type": "execute_result"
    }
   ],
   "source": [
    "result"
   ]
  },
  {
   "cell_type": "code",
   "execution_count": 22,
   "metadata": {},
   "outputs": [],
   "source": [
    "def get_strings_simple(data):\n",
    "    \"\"\"Extract strings using simple list comprehension\"\"\"\n",
    "    return [item[1] for item in data[0]]\n"
   ]
  },
  {
   "cell_type": "code",
   "execution_count": 23,
   "metadata": {},
   "outputs": [],
   "source": [
    "def query_qwen2(text):\n",
    "    \"\"\"Sends text to the locally running Qwen2.5-3B model and forces valid JSON output.\"\"\"\n",
    "    prompt = f\"\"\"\n",
    "    Extract structured details from the following receipt text. Respond only in JSON format without any extra text.\n",
    "    **Input Receipt Text:**\n",
    "    \\\"\\\"\\\"{text}\\\"\\\"\\\"\n",
    "    **JSON Format (Example Output):**\n",
    "    {{\n",
    "        \"vendor\": \"Walmart\",\n",
    "        \"amount\": \"45.67\",\n",
    "        \"date\": \"2024-02-08\",\n",
    "        \"category\": \"Grocery\"\n",
    "    }}\n",
    "    Now, extract details from the given receipt and return only JSON:\n",
    "    \"\"\"\n",
    "    response = ollama.chat(model='qwen2.5:3b', messages=[{\"role\": \"user\", \"content\": prompt}])\n",
    "    json_text = response['message']['content'].strip()\n",
    "    # Ensure only valid JSON is returned\n",
    "    try:\n",
    "        structured_data = json.loads(json_text)  # Parse JSON response\n",
    "        return structured_data\n",
    "    except json.JSONDecodeError:\n",
    "        print(\"Error: Model response is not valid JSON.\\nResponse:\\n\", json_text)\n",
    "        return None"
   ]
  },
  {
   "cell_type": "code",
   "execution_count": 24,
   "metadata": {},
   "outputs": [],
   "source": [
    "def process_receipt(ocr_text_list):\n",
    "    \"\"\"Takes OCR-extracted text and processes it using Qwen2.5-3B to extract structured receipt details.\"\"\"\n",
    "    combined_text = \" \".join([text[0] for text in ocr_text_list])  # Combine OCR-extracted text\n",
    "    structured_data = query_qwen2(combined_text)  # Send to Qwen model\n",
    "    return structured_data"
   ]
  },
  {
   "cell_type": "code",
   "execution_count": 26,
   "metadata": {},
   "outputs": [
    {
     "name": "stdout",
     "output_type": "stream",
     "text": [
      "[2025/02/08 18:40:04] ppocr WARNING: Since the angle classifier is not initialized, it will not be used during the forward process\n",
      "[2025/02/08 18:40:05] ppocr DEBUG: dt_boxes num : 53, elapsed : 0.05650210380554199\n",
      "[2025/02/08 18:40:06] ppocr DEBUG: rec_res num  : 53, elapsed : 1.6820707321166992\n"
     ]
    }
   ],
   "source": [
    "# Read and process image\n",
    "result = ocr_model.ocr(img_path)"
   ]
  },
  {
   "cell_type": "code",
   "execution_count": 28,
   "metadata": {},
   "outputs": [
    {
     "name": "stdout",
     "output_type": "stream",
     "text": [
      "[('Give us feedback @ survey.walmart.com', 0.943331241607666), ('Thank you!ID#:7PB65JWCFZ2', 0.9179755449295044), ('Walmart', 0.9831969141960144), ('949-498-6669 Mgr:MICHAEL', 0.9599562287330627), ('951 AVENIDA PICO', 0.9468727111816406), ('SAN CLEMENTE CA 92673', 0.9396104216575623), ('ST#02527OP#009045 TE#45 TR#06193', 0.9391543865203857), ('GV OATMEAL', 0.9469197988510132), ('007874243408F', 0.978279173374176), ('1.760', 0.9943475723266602), ('OT 200Z TUM', 0.9058380126953125), ('081236803115', 0.997002124786377), ('6.74X', 0.9370657205581665), ('M ATHLETICS', 0.9614916443824768), ('019104567781', 0.9976446032524109), ('24.97X', 0.9188626408576965), ('DEXAS 15X20', 0.9481031894683838), ('008429710921', 0.9988482594490051), ('12.97', 0.9962234497070312), ('SUBTOTAL', 0.9964640140533447), ('46.44', 0.9972065687179565), ('TAX1', 0.9896816611289978), ('7.750%', 0.9917407631874084), ('3.46', 0.997167706489563), ('TOTAL', 0.9981451034545898), ('49.90', 0.9983013272285461), ('DEBIT TEND', 0.9517566561698914), ('49.90', 0.9839494824409485), ('CHANGE DUE', 0.9585790634155273), ('0.00', 0.9984579086303711), ('EFT DEBIT', 0.9106967449188232), ('PAY FROM PRIMARY', 0.9536842107772827), ('49.90', 0.9966974258422852), ('TOTAL PURCHASE', 0.9724208116531372), ('US DEBIT', 0.9378932118415833), ('***********9689I0', 0.7514821290969849), ('REF#029200639128', 0.9947282671928406), ('NETW0RK ID.0056 APPR C0DE 461500', 0.9214140176773071), ('USDEBIT', 0.9805278182029724), ('AID A0000000980840', 0.978978157043457), ('AAC 7756F4EB82B54EED', 0.9619817733764648), ('TERMINAL #SC011004', 0.9620035886764526), ('10/18/20', 0.9983494877815247), ('11:30:42', 0.9511380195617676), ('#ITEMS SOLD 4', 0.9273154139518738), ('TC#2400 47764305 8847 1471', 0.9422643184661865), ('W', 0.8738272786140442), ('Introducing Walmart+', 0.983139157295227), ('Join Loday at walmarL.com/plus', 0.9190697073936462), ('Low Prices You Can Trust. Every Day.', 0.9499051570892334), ('10/18/20', 0.9985132813453674), ('11:30:46', 0.9354792833328247)]\n"
     ]
    }
   ],
   "source": [
    "# Extract strings\n",
    "strings = get_strings_simple(result)\n",
    "\n",
    "print(strings)"
   ]
  },
  {
   "cell_type": "code",
   "execution_count": 29,
   "metadata": {},
   "outputs": [
    {
     "name": "stdout",
     "output_type": "stream",
     "text": [
      "Extracted Receipt Details: {'vendor': 'Walmart', 'amount': '49.90', 'date': '2024-02-08', 'category': 'Grocery'}\n"
     ]
    }
   ],
   "source": [
    "# Process receipt\n",
    "receipt_details = process_receipt(strings)\n",
    "print(\"Extracted Receipt Details:\", receipt_details)"
   ]
  },
  {
   "cell_type": "code",
   "execution_count": null,
   "metadata": {},
   "outputs": [],
   "source": []
  }
 ],
 "metadata": {
  "kernelspec": {
   "display_name": ".venv",
   "language": "python",
   "name": "python3"
  },
  "language_info": {
   "codemirror_mode": {
    "name": "ipython",
    "version": 3
   },
   "file_extension": ".py",
   "mimetype": "text/x-python",
   "name": "python",
   "nbconvert_exporter": "python",
   "pygments_lexer": "ipython3",
   "version": "3.12.6"
  }
 },
 "nbformat": 4,
 "nbformat_minor": 5
}
